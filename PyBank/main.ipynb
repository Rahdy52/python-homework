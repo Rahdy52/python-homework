{
 "cells": [
  {
   "cell_type": "code",
   "execution_count": 33,
   "id": "a802846f-1c31-497d-baf1-5ad3489de758",
   "metadata": {
    "tags": []
   },
   "outputs": [
    {
     "data": {
      "text/plain": [
       "'\\nYour task is to create a Python script that analyzes the records to calculate each of the following:\\n\\nThe total number of months included in the dataset.\\n\\nThe net total amount of Profit/Losses over the entire period.\\n\\nThe average of the changes in Profit/Losses over the entire period.\\n\\nThe greatest increase in profits (date and amount) over the entire period.\\n\\nThe greatest decrease in losses (date and amount) over the entire period.\\n\\nYour resulting analysis should look similar to the following:\\n\\nFinancial Analysis\\n----------------------------\\nTotal Months: 86\\nTotal: $38382578\\nAverage  Change: $-2315.12\\nGreatest Increase in Profits: Feb-2012 ($1926159)\\nGreatest Decrease in Profits: Sep-2013 ($-2196167)\\n\\n\\nYour final script should print the analysis to the terminal and export a text file with the results.\\n'"
      ]
     },
     "execution_count": 33,
     "metadata": {},
     "output_type": "execute_result"
    }
   ],
   "source": [
    "\"\"\"\n",
    "Your task is to create a Python script that analyzes the records to calculate each of the following:\n",
    "\n",
    "The total number of months included in the dataset.\n",
    "\n",
    "The net total amount of Profit/Losses over the entire period.\n",
    "\n",
    "The average of the changes in Profit/Losses over the entire period.\n",
    "\n",
    "The greatest increase in profits (date and amount) over the entire period.\n",
    "\n",
    "The greatest decrease in losses (date and amount) over the entire period.\n",
    "\n",
    "Your resulting analysis should look similar to the following:\n",
    "\n",
    "Financial Analysis\n",
    "----------------------------\n",
    "Total Months: 86\n",
    "Total: $38382578\n",
    "Average  Change: $-2315.12\n",
    "Greatest Increase in Profits: Feb-2012 ($1926159)\n",
    "Greatest Decrease in Profits: Sep-2013 ($-2196167)\n",
    "\n",
    "\n",
    "Your final script should print the analysis to the terminal and export a text file with the results.\n",
    "\"\"\""
   ]
  },
  {
   "cell_type": "code",
   "execution_count": 3,
   "id": "c0f83316-a498-437b-912d-b4741143797d",
   "metadata": {
    "tags": []
   },
   "outputs": [],
   "source": [
    "# import modules for csv file\n",
    "from pathlib import Path\n",
    "import csv\n",
    "import pandas as pd\n",
    "import numpy as np"
   ]
  },
  {
   "cell_type": "code",
   "execution_count": 6,
   "id": "fd14972b-4830-45a5-9e0c-67817b311804",
   "metadata": {
    "tags": []
   },
   "outputs": [],
   "source": [
    "# set path for csv file\n",
    "csvpath = Path(\"./budget_data.csv\")"
   ]
  },
  {
   "cell_type": "code",
   "execution_count": 48,
   "id": "dbcc93b7-474e-4d4f-905d-19ac848f3f87",
   "metadata": {
    "tags": []
   },
   "outputs": [],
   "source": [
    "# read the csv into a dataframe using Pandas\n",
    "budget_dataframe = pd.read_csv(csvpath)"
   ]
  },
  {
   "cell_type": "code",
   "execution_count": 49,
   "id": "2feda78d-3d80-42d9-9deb-b06ffab8c15a",
   "metadata": {
    "tags": []
   },
   "outputs": [
    {
     "data": {
      "text/html": [
       "<div>\n",
       "<style scoped>\n",
       "    .dataframe tbody tr th:only-of-type {\n",
       "        vertical-align: middle;\n",
       "    }\n",
       "\n",
       "    .dataframe tbody tr th {\n",
       "        vertical-align: top;\n",
       "    }\n",
       "\n",
       "    .dataframe thead th {\n",
       "        text-align: right;\n",
       "    }\n",
       "</style>\n",
       "<table border=\"1\" class=\"dataframe\">\n",
       "  <thead>\n",
       "    <tr style=\"text-align: right;\">\n",
       "      <th></th>\n",
       "      <th>Date</th>\n",
       "      <th>Profit/Losses</th>\n",
       "    </tr>\n",
       "  </thead>\n",
       "  <tbody>\n",
       "    <tr>\n",
       "      <th>0</th>\n",
       "      <td>Jan-2010</td>\n",
       "      <td>867884</td>\n",
       "    </tr>\n",
       "    <tr>\n",
       "      <th>1</th>\n",
       "      <td>Feb-2010</td>\n",
       "      <td>984655</td>\n",
       "    </tr>\n",
       "    <tr>\n",
       "      <th>2</th>\n",
       "      <td>Mar-2010</td>\n",
       "      <td>322013</td>\n",
       "    </tr>\n",
       "    <tr>\n",
       "      <th>3</th>\n",
       "      <td>Apr-2010</td>\n",
       "      <td>-69417</td>\n",
       "    </tr>\n",
       "    <tr>\n",
       "      <th>4</th>\n",
       "      <td>May-2010</td>\n",
       "      <td>310503</td>\n",
       "    </tr>\n",
       "    <tr>\n",
       "      <th>...</th>\n",
       "      <td>...</td>\n",
       "      <td>...</td>\n",
       "    </tr>\n",
       "    <tr>\n",
       "      <th>81</th>\n",
       "      <td>Oct-2016</td>\n",
       "      <td>102685</td>\n",
       "    </tr>\n",
       "    <tr>\n",
       "      <th>82</th>\n",
       "      <td>Nov-2016</td>\n",
       "      <td>795914</td>\n",
       "    </tr>\n",
       "    <tr>\n",
       "      <th>83</th>\n",
       "      <td>Dec-2016</td>\n",
       "      <td>60988</td>\n",
       "    </tr>\n",
       "    <tr>\n",
       "      <th>84</th>\n",
       "      <td>Jan-2017</td>\n",
       "      <td>138230</td>\n",
       "    </tr>\n",
       "    <tr>\n",
       "      <th>85</th>\n",
       "      <td>Feb-2017</td>\n",
       "      <td>671099</td>\n",
       "    </tr>\n",
       "  </tbody>\n",
       "</table>\n",
       "<p>86 rows × 2 columns</p>\n",
       "</div>"
      ],
      "text/plain": [
       "        Date  Profit/Losses\n",
       "0   Jan-2010         867884\n",
       "1   Feb-2010         984655\n",
       "2   Mar-2010         322013\n",
       "3   Apr-2010         -69417\n",
       "4   May-2010         310503\n",
       "..       ...            ...\n",
       "81  Oct-2016         102685\n",
       "82  Nov-2016         795914\n",
       "83  Dec-2016          60988\n",
       "84  Jan-2017         138230\n",
       "85  Feb-2017         671099\n",
       "\n",
       "[86 rows x 2 columns]"
      ]
     },
     "execution_count": 49,
     "metadata": {},
     "output_type": "execute_result"
    }
   ],
   "source": [
    "# read the csv file\n",
    "budget_dataframe"
   ]
  },
  {
   "cell_type": "code",
   "execution_count": 50,
   "id": "01ebc02b-7116-4723-a3cc-52d54fa8362e",
   "metadata": {
    "tags": []
   },
   "outputs": [
    {
     "data": {
      "text/html": [
       "<div>\n",
       "<style scoped>\n",
       "    .dataframe tbody tr th:only-of-type {\n",
       "        vertical-align: middle;\n",
       "    }\n",
       "\n",
       "    .dataframe tbody tr th {\n",
       "        vertical-align: top;\n",
       "    }\n",
       "\n",
       "    .dataframe thead th {\n",
       "        text-align: right;\n",
       "    }\n",
       "</style>\n",
       "<table border=\"1\" class=\"dataframe\">\n",
       "  <thead>\n",
       "    <tr style=\"text-align: right;\">\n",
       "      <th></th>\n",
       "      <th>Profit/Losses</th>\n",
       "    </tr>\n",
       "  </thead>\n",
       "  <tbody>\n",
       "    <tr>\n",
       "      <th>count</th>\n",
       "      <td>86.00</td>\n",
       "    </tr>\n",
       "    <tr>\n",
       "      <th>mean</th>\n",
       "      <td>446309.05</td>\n",
       "    </tr>\n",
       "    <tr>\n",
       "      <th>std</th>\n",
       "      <td>536357.95</td>\n",
       "    </tr>\n",
       "    <tr>\n",
       "      <th>min</th>\n",
       "      <td>-1196225.00</td>\n",
       "    </tr>\n",
       "    <tr>\n",
       "      <th>25%</th>\n",
       "      <td>182162.00</td>\n",
       "    </tr>\n",
       "    <tr>\n",
       "      <th>50%</th>\n",
       "      <td>570328.00</td>\n",
       "    </tr>\n",
       "    <tr>\n",
       "      <th>75%</th>\n",
       "      <td>795226.25</td>\n",
       "    </tr>\n",
       "    <tr>\n",
       "      <th>max</th>\n",
       "      <td>1170593.00</td>\n",
       "    </tr>\n",
       "  </tbody>\n",
       "</table>\n",
       "</div>"
      ],
      "text/plain": [
       "       Profit/Losses\n",
       "count          86.00\n",
       "mean       446309.05\n",
       "std        536357.95\n",
       "min      -1196225.00\n",
       "25%        182162.00\n",
       "50%        570328.00\n",
       "75%        795226.25\n",
       "max       1170593.00"
      ]
     },
     "execution_count": 50,
     "metadata": {},
     "output_type": "execute_result"
    }
   ],
   "source": [
    "# generate statistics for whatever it helps\n",
    "round(budget_dataframe.describe(),2)\n"
   ]
  },
  {
   "cell_type": "code",
   "execution_count": 51,
   "id": "36d2df20-e9ea-4aa0-aa13-22cf78bce145",
   "metadata": {
    "tags": []
   },
   "outputs": [],
   "source": [
    "#calculate total months in whatever means as I don't know how to do it in Pandas...yet\n",
    "total_number_of_months = 0\n",
    "with open(csvpath) as csvfile:\n",
    "    csvreader = csv.reader(csvfile,delimiter=',')\n",
    "    # print(csvreader)\n",
    "    header = next(csvreader)\n",
    "    # Read each row of data after the header    \n",
    "    for row in csvreader:\n",
    "        \n",
    "        # count months        \n",
    "        total_number_of_months += 1\n",
    "        \n",
    "       "
   ]
  },
  {
   "cell_type": "code",
   "execution_count": 52,
   "id": "1793e773-710e-4ef8-a8bd-eddaffd93a76",
   "metadata": {
    "tags": []
   },
   "outputs": [
    {
     "data": {
      "text/plain": [
       "86"
      ]
     },
     "execution_count": 52,
     "metadata": {},
     "output_type": "execute_result"
    }
   ],
   "source": [
    "total_number_of_months"
   ]
  },
  {
   "cell_type": "code",
   "execution_count": 53,
   "id": "23b173c8-9afa-425a-9936-6d0b64873d06",
   "metadata": {
    "tags": []
   },
   "outputs": [],
   "source": [
    "# calculate total months\n",
    "total_number_of_months = budget_dataframe['Date'].count()"
   ]
  },
  {
   "cell_type": "code",
   "execution_count": 54,
   "id": "db990b29-abbf-4976-96b8-bf51e2d9ddeb",
   "metadata": {
    "tags": []
   },
   "outputs": [
    {
     "data": {
      "text/plain": [
       "86"
      ]
     },
     "execution_count": 54,
     "metadata": {},
     "output_type": "execute_result"
    }
   ],
   "source": [
    "total_number_of_months"
   ]
  },
  {
   "cell_type": "code",
   "execution_count": 55,
   "id": "3e7a00e0-bf80-4e54-b62e-ff0a5306f74f",
   "metadata": {
    "tags": []
   },
   "outputs": [],
   "source": [
    "# calculate total profit/losses\n",
    "total_profit_losses = budget_dataframe[\"Profit/Losses\"].sum()"
   ]
  },
  {
   "cell_type": "code",
   "execution_count": 56,
   "id": "267835ff-2b4f-4782-921c-821cefe67696",
   "metadata": {
    "tags": []
   },
   "outputs": [
    {
     "data": {
      "text/plain": [
       "38382578"
      ]
     },
     "execution_count": 56,
     "metadata": {},
     "output_type": "execute_result"
    }
   ],
   "source": [
    "total_profit_losses"
   ]
  },
  {
   "cell_type": "code",
   "execution_count": 57,
   "id": "909cabdb-b017-4ea1-917a-1f88be39f7e0",
   "metadata": {
    "tags": []
   },
   "outputs": [],
   "source": [
    "# calculate the average, greatest increase/decrease\n",
    "counter = 0\n",
    "change = []\n",
    "profit_losses_list = list(budget_dataframe['Profit/Losses'])\n",
    "date = \"\"\n",
    "for i in range(len(budget_dataframe)-1):\n",
    "    start_month = profit_losses_list[i]\n",
    "    next_month = profit_losses_list[i+1]\n",
    "    change.append(next_month-start_month)\n",
    "    counter = sum(budget_dataframe['Profit/Losses'])\n",
    "    greatest_decrease = min(change)\n",
    "    greatest_increase = max(change)  \n",
    "    average_change = round(np.mean(change),2) "
   ]
  },
  {
   "cell_type": "code",
   "execution_count": 58,
   "id": "dba725d1-24e9-4eac-9dfc-1a46a9820c11",
   "metadata": {},
   "outputs": [
    {
     "data": {
      "text/plain": [
       "-2315.12"
      ]
     },
     "execution_count": 58,
     "metadata": {},
     "output_type": "execute_result"
    }
   ],
   "source": [
    "# run to check\n",
    "average_change"
   ]
  },
  {
   "cell_type": "code",
   "execution_count": 59,
   "id": "42302d0c-cf23-423b-9cf8-626ade5bbb8e",
   "metadata": {},
   "outputs": [
    {
     "data": {
      "text/plain": [
       "-2196167"
      ]
     },
     "execution_count": 59,
     "metadata": {},
     "output_type": "execute_result"
    }
   ],
   "source": [
    "greatest_decrease"
   ]
  },
  {
   "cell_type": "code",
   "execution_count": 60,
   "id": "6cec78ab-3c0b-4fe7-84c7-18f15996ae26",
   "metadata": {
    "tags": []
   },
   "outputs": [
    {
     "data": {
      "text/plain": [
       "1926159"
      ]
     },
     "execution_count": 60,
     "metadata": {},
     "output_type": "execute_result"
    }
   ],
   "source": [
    "greatest_increase"
   ]
  },
  {
   "cell_type": "code",
   "execution_count": 61,
   "id": "0409d2d1-51c6-4c4d-8277-55ea153f1ea5",
   "metadata": {
    "tags": []
   },
   "outputs": [
    {
     "name": "stdout",
     "output_type": "stream",
     "text": [
      "\n",
      "Financial Analysis\n",
      "---------------------\n",
      "\n",
      "Total Months: 86\n",
      "\n",
      "Total: $38382578\n",
      "\n",
      "Average  Change: $-2315.12\n",
      "\n",
      "Greatest Increase in Profits: $1926159\n",
      "\n",
      "Greatest Decrease in Profits: $-2196167\n",
      "\n"
     ]
    }
   ],
   "source": [
    "print(f\"\\nFinancial Analysis\\n---------------------\\n\")\n",
    "print(f\"Total Months: {total_number_of_months}\\n\")\n",
    "print(f\"Total: ${total_profit_losses}\\n\")\n",
    "print(f\"Average  Change: ${average_change}\\n\")\n",
    "print(f\"Greatest Increase in Profits: ${greatest_increase}\\n\")\n",
    "print(f\"Greatest Decrease in Profits: ${greatest_decrease}\\n\")"
   ]
  },
  {
   "cell_type": "code",
   "execution_count": null,
   "id": "ca8206ff-2158-4444-9bad-2e96c6251925",
   "metadata": {},
   "outputs": [],
   "source": []
  },
  {
   "cell_type": "code",
   "execution_count": null,
   "id": "4277f385-cb2b-495a-a6c1-5f0aed0be263",
   "metadata": {},
   "outputs": [],
   "source": []
  },
  {
   "cell_type": "code",
   "execution_count": null,
   "id": "10cf245d-8d45-4430-bc3d-8c1a0e98c7b0",
   "metadata": {},
   "outputs": [],
   "source": []
  }
 ],
 "metadata": {
  "kernelspec": {
   "display_name": "Python 3 (ipykernel)",
   "language": "python",
   "name": "python3"
  },
  "language_info": {
   "codemirror_mode": {
    "name": "ipython",
    "version": 3
   },
   "file_extension": ".py",
   "mimetype": "text/x-python",
   "name": "python",
   "nbconvert_exporter": "python",
   "pygments_lexer": "ipython3",
   "version": "3.10.11"
  }
 },
 "nbformat": 4,
 "nbformat_minor": 5
}
