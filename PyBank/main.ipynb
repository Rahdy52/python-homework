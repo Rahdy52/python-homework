{
 "cells": [
  {
   "cell_type": "code",
   "execution_count": 33,
   "id": "a802846f-1c31-497d-baf1-5ad3489de758",
   "metadata": {
    "tags": []
   },
   "outputs": [
    {
     "data": {
      "text/plain": [
       "'\\nYour task is to create a Python script that analyzes the records to calculate each of the following:\\n\\nThe total number of months included in the dataset.\\n\\nThe net total amount of Profit/Losses over the entire period.\\n\\nThe average of the changes in Profit/Losses over the entire period.\\n\\nThe greatest increase in profits (date and amount) over the entire period.\\n\\nThe greatest decrease in losses (date and amount) over the entire period.\\n\\nYour resulting analysis should look similar to the following:\\n\\nFinancial Analysis\\n----------------------------\\nTotal Months: 86\\nTotal: $38382578\\nAverage  Change: $-2315.12\\nGreatest Increase in Profits: Feb-2012 ($1926159)\\nGreatest Decrease in Profits: Sep-2013 ($-2196167)\\n\\n\\nYour final script should print the analysis to the terminal and export a text file with the results.\\n'"
      ]
     },
     "execution_count": 33,
     "metadata": {},
     "output_type": "execute_result"
    }
   ],
   "source": [
    "\"\"\"\n",
    "Your task is to create a Python script that analyzes the records to calculate each of the following:\n",
    "\n",
    "The total number of months included in the dataset.\n",
    "\n",
    "The net total amount of Profit/Losses over the entire period.\n",
    "\n",
    "The average of the changes in Profit/Losses over the entire period.\n",
    "\n",
    "The greatest increase in profits (date and amount) over the entire period.\n",
    "\n",
    "The greatest decrease in losses (date and amount) over the entire period.\n",
    "\n",
    "Your resulting analysis should look similar to the following:\n",
    "\n",
    "Financial Analysis\n",
    "----------------------------\n",
    "Total Months: 86\n",
    "Total: $38382578\n",
    "Average  Change: $-2315.12\n",
    "Greatest Increase in Profits: Feb-2012 ($1926159)\n",
    "Greatest Decrease in Profits: Sep-2013 ($-2196167)\n",
    "\n",
    "\n",
    "Your final script should print the analysis to the terminal and export a text file with the results.\n",
    "\"\"\""
   ]
  },
  {
   "cell_type": "code",
   "execution_count": 58,
   "id": "c0f83316-a498-437b-912d-b4741143797d",
   "metadata": {
    "tags": []
   },
   "outputs": [],
   "source": [
    "# import modules for csv file\n",
    "import os\n",
    "from pathlib import Path\n",
    "import csv\n",
    "import numpy as np"
   ]
  },
  {
   "cell_type": "code",
   "execution_count": null,
   "id": "bfe5de30-5450-4d21-a180-e53ac745fbe9",
   "metadata": {},
   "outputs": [],
   "source": []
  },
  {
   "cell_type": "code",
   "execution_count": 59,
   "id": "c61c19d6-0476-4883-afe8-5ce53da0b9c4",
   "metadata": {
    "tags": []
   },
   "outputs": [
    {
     "data": {
      "text/plain": [
       "PosixPath('/Users/hardyty/Desktop/python-homework/PyBank')"
      ]
     },
     "execution_count": 59,
     "metadata": {},
     "output_type": "execute_result"
    }
   ],
   "source": [
    "Path.cwd()"
   ]
  },
  {
   "cell_type": "code",
   "execution_count": 60,
   "id": "fd14972b-4830-45a5-9e0c-67817b311804",
   "metadata": {
    "tags": []
   },
   "outputs": [],
   "source": [
    "# set path for csv file\n",
    "csvpath = Path(\"../../../Downloads/budget_data.csv\")"
   ]
  },
  {
   "cell_type": "code",
   "execution_count": 61,
   "id": "01ebc02b-7116-4723-a3cc-52d54fa8362e",
   "metadata": {
    "tags": []
   },
   "outputs": [],
   "source": [
    "#Declare variables\n",
    "total_number_of_months = 0\n",
    "net_total_profits_or_loss = 0\n",
    "current_profit = 0\n",
    "previous_profit = 0\n",
    "change_month = []\n",
    "profit_change = 0\n",
    "profit_or_loss_ave_changes = []\n",
    "greatest_increase = [\" \", 0]\n",
    "greatest_decrease = [\" \", 9999999]\n"
   ]
  },
  {
   "cell_type": "code",
   "execution_count": 62,
   "id": "36d2df20-e9ea-4aa0-aa13-22cf78bce145",
   "metadata": {
    "tags": []
   },
   "outputs": [],
   "source": [
    "with open(csvpath) as csvfile:\n",
    "    csvreader = csv.reader(csvfile,delimiter=',')\n",
    "    # print(csvreader)\n",
    "    header = next(csvreader)\n",
    "    # Read each row of data after the header    \n",
    "    for row in csvreader:\n",
    "        \n",
    "        # count months        \n",
    "        total_number_of_months += 1\n",
    "        \n",
    "        #  calculate net_total_profits_or_loss\n",
    "        net_total_profits_or_loss = net_total_profits_or_loss + (int(row[1]))\n",
    "       "
   ]
  },
  {
   "cell_type": "code",
   "execution_count": 63,
   "id": "074936a5-e8e6-441b-8988-c158d1e00871",
   "metadata": {
    "tags": []
   },
   "outputs": [
    {
     "data": {
      "text/plain": [
       "86"
      ]
     },
     "execution_count": 63,
     "metadata": {},
     "output_type": "execute_result"
    }
   ],
   "source": [
    "total_number_of_months"
   ]
  },
  {
   "cell_type": "code",
   "execution_count": 64,
   "id": "267835ff-2b4f-4782-921c-821cefe67696",
   "metadata": {
    "tags": []
   },
   "outputs": [
    {
     "data": {
      "text/plain": [
       "38382578"
      ]
     },
     "execution_count": 64,
     "metadata": {},
     "output_type": "execute_result"
    }
   ],
   "source": [
    "net_total_profits_or_loss"
   ]
  },
  {
   "cell_type": "code",
   "execution_count": null,
   "id": "85721e00-da04-4300-a151-3444e4a7b258",
   "metadata": {},
   "outputs": [],
   "source": []
  },
  {
   "cell_type": "code",
   "execution_count": null,
   "id": "ec7929bf-72fa-4310-8983-8e91442e2df5",
   "metadata": {},
   "outputs": [],
   "source": []
  },
  {
   "cell_type": "code",
   "execution_count": null,
   "id": "ac2358e1-a552-4946-b9ee-91e142521a59",
   "metadata": {},
   "outputs": [],
   "source": []
  },
  {
   "cell_type": "code",
   "execution_count": null,
   "id": "dba725d1-24e9-4eac-9dfc-1a46a9820c11",
   "metadata": {},
   "outputs": [],
   "source": []
  },
  {
   "cell_type": "code",
   "execution_count": null,
   "id": "42302d0c-cf23-423b-9cf8-626ade5bbb8e",
   "metadata": {},
   "outputs": [],
   "source": []
  },
  {
   "cell_type": "code",
   "execution_count": 65,
   "id": "0409d2d1-51c6-4c4d-8277-55ea153f1ea5",
   "metadata": {
    "tags": []
   },
   "outputs": [
    {
     "name": "stdout",
     "output_type": "stream",
     "text": [
      "\n",
      "Financial Analysis\n",
      "---------------------\n",
      "\n",
      "Total Months: 86\n",
      "\n",
      "Total: $38382578\n",
      "\n"
     ]
    }
   ],
   "source": [
    "print(f\"\\nFinancial Analysis\\n---------------------\\n\")\n",
    "print(f\"Total Months: {total_number_of_months}\\n\")\n",
    "print(f\"Total: ${net_total_profits_or_loss}\\n\")"
   ]
  },
  {
   "cell_type": "code",
   "execution_count": null,
   "id": "ca8206ff-2158-4444-9bad-2e96c6251925",
   "metadata": {},
   "outputs": [],
   "source": []
  },
  {
   "cell_type": "code",
   "execution_count": null,
   "id": "4277f385-cb2b-495a-a6c1-5f0aed0be263",
   "metadata": {},
   "outputs": [],
   "source": []
  },
  {
   "cell_type": "code",
   "execution_count": null,
   "id": "10cf245d-8d45-4430-bc3d-8c1a0e98c7b0",
   "metadata": {},
   "outputs": [],
   "source": []
  }
 ],
 "metadata": {
  "kernelspec": {
   "display_name": "Python 3 (ipykernel)",
   "language": "python",
   "name": "python3"
  },
  "language_info": {
   "codemirror_mode": {
    "name": "ipython",
    "version": 3
   },
   "file_extension": ".py",
   "mimetype": "text/x-python",
   "name": "python",
   "nbconvert_exporter": "python",
   "pygments_lexer": "ipython3",
   "version": "3.10.11"
  }
 },
 "nbformat": 4,
 "nbformat_minor": 5
}
